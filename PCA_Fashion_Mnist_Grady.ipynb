{
  "nbformat": 4,
  "nbformat_minor": 0,
  "metadata": {
    "colab": {
      "name": "PCA Fashion Mnist Grady.ipynb",
      "provenance": [],
      "collapsed_sections": [],
      "authorship_tag": "ABX9TyNRPBdB6zQnIj2p7Cd7EkMx",
      "include_colab_link": true
    },
    "kernelspec": {
      "name": "python3",
      "display_name": "Python 3"
    }
  },
  "cells": [
    {
      "cell_type": "markdown",
      "metadata": {
        "id": "view-in-github",
        "colab_type": "text"
      },
      "source": [
        "<a href=\"https://colab.research.google.com/github/Radvian/pca-fashion-mnist/blob/main/PCA_Fashion_Mnist_Grady.ipynb\" target=\"_parent\"><img src=\"https://colab.research.google.com/assets/colab-badge.svg\" alt=\"Open In Colab\"/></a>"
      ]
    },
    {
      "cell_type": "markdown",
      "metadata": {
        "id": "GSwe6MGGZcfm"
      },
      "source": [
        "# PCA on Fashion MNIST Dataset"
      ]
    },
    {
      "cell_type": "markdown",
      "metadata": {
        "id": "2wiWkiOjZp0P"
      },
      "source": [
        "### Part 1 : Importing Libraries and Dataset\r\n",
        "\r\n",
        "Pada langkah ini, kita import beberapa libraries yang akan digunakan beserta dataset ```fashion-mnist```."
      ]
    },
    {
      "cell_type": "code",
      "metadata": {
        "id": "G2z2tBzOZByk"
      },
      "source": [
        "import numpy as np\r\n",
        "import pandas as pd\r\n",
        "import sklearn\r\n",
        "import matplotlib.pyplot as plt\r\n",
        "import seaborn as sns\r\n",
        "import time\r\n",
        "\r\n",
        "import tensorflow as tf\r\n",
        "from tensorflow import keras"
      ],
      "execution_count": 1,
      "outputs": []
    },
    {
      "cell_type": "code",
      "metadata": {
        "id": "sudV9j3PZQiy"
      },
      "source": [
        "(x_train, y_train), (x_test, y_test) = tf.keras.datasets.fashion_mnist.load_data()"
      ],
      "execution_count": 2,
      "outputs": []
    },
    {
      "cell_type": "markdown",
      "metadata": {
        "id": "2FgQwDJfZ25m"
      },
      "source": [
        "Agar lebih mengenal dataset ini, mari kita lihat shape dari masing-masing komponen."
      ]
    },
    {
      "cell_type": "code",
      "metadata": {
        "colab": {
          "base_uri": "https://localhost:8080/"
        },
        "id": "_WRdtCi_ZbId",
        "outputId": "df9ed5b3-61e0-47c4-e60b-70ace7f6a9ad"
      },
      "source": [
        "print('x_train shape:', x_train.shape)\r\n",
        "print('y_train shape:', y_train.shape)\r\n",
        "print('x_test shape:', x_test.shape)\r\n",
        "print('y_test shape:', y_test.shape)"
      ],
      "execution_count": 3,
      "outputs": [
        {
          "output_type": "stream",
          "text": [
            "x_train shape: (60000, 28, 28)\n",
            "y_train shape: (60000,)\n",
            "x_test shape: (10000, 28, 28)\n",
            "y_test shape: (10000,)\n"
          ],
          "name": "stdout"
        }
      ]
    },
    {
      "cell_type": "markdown",
      "metadata": {
        "id": "wDdxYppOaMUY"
      },
      "source": [
        "Detil dari dataset ini dapat dilihat pada dokumentasi https://keras.io/api/datasets/fashion_mnist/. Berdasarkan paparan di atas, data training kita adalah sebanyak 60 000 dan berisi gambar berukuran 28x28 pixel. \r\n",
        "\r\n",
        "Setiap pixel nilainya adalah 0 sampai 255, seperti yang dijelaskan Pak Arko di kelas minggu lalu. Oleh sebab itu, dengan kata lain, dataset kita memiliki 28*28 = 784 'feature columns'. \r\n",
        "\r\n",
        "Mari kita lihat beberapa contoh dari dataset ini."
      ]
    },
    {
      "cell_type": "code",
      "metadata": {
        "colab": {
          "base_uri": "https://localhost:8080/",
          "height": 283
        },
        "id": "cawnvof9aqlJ",
        "outputId": "a68f7306-d2cf-4674-e3a4-6cbc56ebb8dc"
      },
      "source": [
        "plt.imshow(x_train[0])\r\n",
        "print('Label dari gambar ini adalah:', y_train[0])"
      ],
      "execution_count": 4,
      "outputs": [
        {
          "output_type": "stream",
          "text": [
            "Label dari gambar ini adalah: 9\n"
          ],
          "name": "stdout"
        },
        {
          "output_type": "display_data",
          "data": {
            "image/png": "[encoded data removed]",
            "text/plain": [
              "<Figure size 432x288 with 1 Axes>"
            ]
          },
          "metadata": {
            "tags": [],
            "needs_background": "light"
          }
        }
      ]
    },
    {
      "cell_type": "code",
      "metadata": {
        "colab": {
          "base_uri": "https://localhost:8080/",
          "height": 283
        },
        "id": "kETp9L37a-M4",
        "outputId": "fd3023b9-f952-4bbb-e7fb-526a47003916"
      },
      "source": [
        "plt.imshow(x_train[120])\r\n",
        "print('Label dari gambar ini adalah:', y_train[120])"
      ],
      "execution_count": 5,
      "outputs": [
        {
          "output_type": "stream",
          "text": [
            "Label dari gambar ini adalah: 5\n"
          ],
          "name": "stdout"
        },
        {
          "output_type": "display_data",
          "data": {
            "image/png": "[encoded data removed]",
            "text/plain": [
              "<Figure size 432x288 with 1 Axes>"
            ]
          },
          "metadata": {
            "tags": [],
            "needs_background": "light"
          }
        }
      ]
    },
    {
      "cell_type": "markdown",
      "metadata": {
        "id": "4ys9g-iqbbLN"
      },
      "source": [
        "Seperti yang terkandung dalam namanya, dataset ini berisi gambar 'fashion images' dan memiliki label 0 sampai 9. Apabila kita membaca dokumentasi dengan baik, maka kita mengetahui bahwa label-label nomor tersebut adalah sebagai berikut.\r\n",
        "\r\n",
        "- Label 0: T-Shirt (Kaos)\r\n",
        "- Label 1: Trouser (Celana Panjang)\r\n",
        "- Label 2: Pullover (Kaos Lengan Panjang)\r\n",
        "- Label 3: Dress (Gaun)\r\n",
        "- Label 4: Coat (Jaket, Sweater, dll)\r\n",
        "- Label 5: Sandal\r\n",
        "- Label 6: Shirt (Kemeja)\r\n",
        "- Label 7: Sneaker (Sepatu)\r\n",
        "- Label 8: Bag (Tas)\r\n",
        "- Label 9: Ankle Boot (Sepatu Boots)"
      ]
    },
    {
      "cell_type": "code",
      "metadata": {
        "id": "cIZBb1ddcnQV"
      },
      "source": [
        "dictionary = {0:'T-Shirt', 1:'Trouser', 2:'Pullover', 3:'Dress', 4:'Coat', 5:'Sandal', 6:'Shirt',\r\n",
        "              7:'Sneaker', 8:'Bag', 9:'Boots'}"
      ],
      "execution_count": 6,
      "outputs": []
    },
    {
      "cell_type": "code",
      "metadata": {
        "id": "UzJxLbB3mc5i"
      },
      "source": [
        "x_train_flat = x_train.reshape(60000,784)\r\n",
        "x_test_flat = x_test.reshape(10000,784)"
      ],
      "execution_count": 7,
      "outputs": []
    },
    {
      "cell_type": "markdown",
      "metadata": {
        "id": "t-tbUTAboFnV"
      },
      "source": [
        "### Part 2 : Decision Tree using Non-PCA Data\r\n",
        "\r\n",
        "Mari kita terlebih dahulu memeriksa seberapa akurat dan seberapa lama waktu yang digunakan untuk melatih algoritma decision tree pada dataset kita sebelum dilakukan PCA.\r\n",
        "\r\n",
        "Sebelumnya, saya telah melakukan regresi logistik, namun tidak kunjung konvergen."
      ]
    },
    {
      "cell_type": "code",
      "metadata": {
        "id": "dW7iOsXgp2j9"
      },
      "source": [
        "from sklearn.tree import DecisionTreeClassifier\r\n",
        "from sklearn.metrics import accuracy_score\r\n",
        "\r\n",
        "def dectree(x_train, y_train, x_test, y_test, return_pred = False):\r\n",
        "  dt = DecisionTreeClassifier()\r\n",
        "  start = time.time()\r\n",
        "  dt.fit(x_train, y_train)\r\n",
        "  end = time.time()\r\n",
        "\r\n",
        "  duration = end-start\r\n",
        "  accuracy = accuracy_score(y_test, dt.predict(x_test))\r\n",
        "\r\n",
        "  if return_pred == False:\r\n",
        "    return duration, accuracy\r\n",
        "  else:\r\n",
        "    return duration, accuracy, dt.predict(x_test)"
      ],
      "execution_count": 8,
      "outputs": []
    },
    {
      "cell_type": "code",
      "metadata": {
        "id": "VmfaG_pAoFBh"
      },
      "source": [
        "duration_raw, accuracy_raw = dectree(x_train_flat, y_train,\r\n",
        "                                    x_test_flat, y_test)"
      ],
      "execution_count": 9,
      "outputs": []
    },
    {
      "cell_type": "code",
      "metadata": {
        "colab": {
          "base_uri": "https://localhost:8080/"
        },
        "id": "vEvr9I9nqqLX",
        "outputId": "dc31d9bb-789d-4bbf-b060-49a71126e534"
      },
      "source": [
        "print('Time elapsed:', duration_raw, 'seconds.')\r\n",
        "print('Model accuracy:', accuracy_raw, 'percent.')"
      ],
      "execution_count": 10,
      "outputs": [
        {
          "output_type": "stream",
          "text": [
            "Time elapsed: 60.015379428863525 seconds.\n",
            "Model accuracy: 0.7901 percent.\n"
          ],
          "name": "stdout"
        }
      ]
    },
    {
      "cell_type": "markdown",
      "metadata": {
        "id": "KTMlY63Ac55N"
      },
      "source": [
        "### Part 2 : PCA with 95% Explained Variance\r\n",
        "\r\n",
        "Setiap model machine learning berupaya untuk menjelaskan 'variance' dari dataset. Variance dalam hal ini diartikan sebagai seberapa 'bervariasi'/'berubah'nya dataset. Secara intuisi, 'variance' ini adalah 'informasi' dari dataset tersebut.\r\n",
        "\r\n",
        "PCA mengupayakan agar kita mereduksi dimensi dari dataset, namun masih mempertahankan 'variance' dari dataset tersebut. Kita ingin mereduksi dataset kita namun masih mempertahankan sebanyak mungkin 'informasi' semula.\r\n",
        "\r\n",
        "Berapa bagian (biasanya dalam persen) dari 'informasi' yang ingin dipertahankan disebut 'explained variance'."
      ]
    },
    {
      "cell_type": "code",
      "metadata": {
        "id": "W-0YJt2fc2ZA"
      },
      "source": [
        "from sklearn.decomposition import PCA\r\n",
        "\r\n",
        "pca_95 = PCA(0.95)"
      ],
      "execution_count": 11,
      "outputs": []
    },
    {
      "cell_type": "code",
      "metadata": {
        "id": "UEbFy3XCl4e3"
      },
      "source": [
        "start_time = time.time()\r\n",
        "pca_95.fit(x_train_flat)\r\n",
        "x_train_pca_95 = pca_95.transform(x_train_flat)\r\n",
        "x_test_pca_95 = pca_95.transform(x_test_flat)\r\n",
        "finish_time = time.time()"
      ],
      "execution_count": 12,
      "outputs": []
    },
    {
      "cell_type": "code",
      "metadata": {
        "colab": {
          "base_uri": "https://localhost:8080/"
        },
        "id": "OZktMhTvl4Yz",
        "outputId": "1aff5bdb-8e88-46cf-ce0b-f4c1e9c7d850"
      },
      "source": [
        "print('PCA Fit and Transform finished in', finish_time - start_time, 'seconds.')\r\n",
        "print('Hanya tersisa:', pca_95.n_components_, 'feature columns setelah dlakukan PCA.')\r\n",
        "print('PCA kali ini berhasil mereduksi dataset sebanyak', (1-(pca_95.n_components_/784))*100, 'persen')"
      ],
      "execution_count": 13,
      "outputs": [
        {
          "output_type": "stream",
          "text": [
            "PCA Fit and Transform finished in 11.085989713668823 seconds.\n",
            "Hanya tersisa: 187 feature columns setelah dlakukan PCA.\n",
            "PCA kali ini berhasil mereduksi dataset sebanyak 76.14795918367348 persen\n"
          ],
          "name": "stdout"
        }
      ]
    },
    {
      "cell_type": "code",
      "metadata": {
        "id": "jhIYL_gql4Ws"
      },
      "source": [
        "duration_pca, accuracy_pca = dectree(x_train_pca_95, y_train,\r\n",
        "                                    x_test_pca_95, y_test)"
      ],
      "execution_count": 14,
      "outputs": []
    },
    {
      "cell_type": "code",
      "metadata": {
        "colab": {
          "base_uri": "https://localhost:8080/"
        },
        "id": "1jMzWT2srPvy",
        "outputId": "dc791e5e-5c01-4470-ee4f-812dad0f528c"
      },
      "source": [
        "print('Time elapsed:', duration_pca, 'seconds.')\r\n",
        "print('Model accuracy:', accuracy_pca, 'percent.')"
      ],
      "execution_count": 15,
      "outputs": [
        {
          "output_type": "stream",
          "text": [
            "Time elapsed: 48.150229692459106 seconds.\n",
            "Model accuracy: 0.7592 percent.\n"
          ],
          "name": "stdout"
        }
      ]
    },
    {
      "cell_type": "markdown",
      "metadata": {
        "id": "vcgwFqqGmAX9"
      },
      "source": [
        "### Part 3 : PCA with 90% Explained Variance + Scaling"
      ]
    },
    {
      "cell_type": "code",
      "metadata": {
        "id": "jXUyG0lFm-85"
      },
      "source": [
        "from sklearn.preprocessing import StandardScaler\r\n",
        "\r\n",
        "ss = StandardScaler().fit(x_train_flat)\r\n",
        "x_train_scale = ss.transform(x_train_flat)\r\n",
        "x_test_scale = ss.transform(x_test_flat)"
      ],
      "execution_count": 16,
      "outputs": []
    },
    {
      "cell_type": "code",
      "metadata": {
        "id": "_Bm1IYL8vTVj"
      },
      "source": [
        "pca_90s = PCA(0.90)\r\n",
        "start_time = time.time()\r\n",
        "pca_90s.fit(x_train_scale)\r\n",
        "x_train_pca_90s = pca_90s.transform(x_train_scale)\r\n",
        "x_test_pca_90s = pca_90s.transform(x_test_scale)\r\n",
        "finish_time = time.time()"
      ],
      "execution_count": 17,
      "outputs": []
    },
    {
      "cell_type": "code",
      "metadata": {
        "colab": {
          "base_uri": "https://localhost:8080/"
        },
        "id": "MuZ64xHfvbiC",
        "outputId": "e5350ec9-220d-47fc-a7f6-cc013e3b574c"
      },
      "source": [
        "print('PCA Fit and Transform finished in', finish_time - start_time, 'seconds.')\r\n",
        "print('Hanya tersisa:', pca_90s.n_components_, 'feature columns setelah dlakukan PCA.')\r\n",
        "print('PCA kali ini berhasil mereduksi dataset sebanyak', (1-(pca_90s.n_components_/784))*100, 'persen')"
      ],
      "execution_count": 18,
      "outputs": [
        {
          "output_type": "stream",
          "text": [
            "PCA Fit and Transform finished in 10.85710597038269 seconds.\n",
            "Hanya tersisa: 137 feature columns setelah dlakukan PCA.\n",
            "PCA kali ini berhasil mereduksi dataset sebanyak 82.52551020408163 persen\n"
          ],
          "name": "stdout"
        }
      ]
    },
    {
      "cell_type": "code",
      "metadata": {
        "id": "_Zc5A0dSvw5r"
      },
      "source": [
        "duration_pcas, accuracy_pcas, pca_90s_prediction = dectree(x_train_pca_90s, y_train,\r\n",
        "                                    x_test_pca_90s, y_test, True)"
      ],
      "execution_count": 19,
      "outputs": []
    },
    {
      "cell_type": "code",
      "metadata": {
        "colab": {
          "base_uri": "https://localhost:8080/"
        },
        "id": "xv4vGGazv2-7",
        "outputId": "f8b0df5e-50ec-4a78-c1a3-226c13fc7f49"
      },
      "source": [
        "print('Time elapsed:', duration_pcas, 'seconds.')\r\n",
        "print('Model accuracy:', accuracy_pcas, 'percent.')"
      ],
      "execution_count": 20,
      "outputs": [
        {
          "output_type": "stream",
          "text": [
            "Time elapsed: 32.58561372756958 seconds.\n",
            "Model accuracy: 0.7635 percent.\n"
          ],
          "name": "stdout"
        }
      ]
    },
    {
      "cell_type": "markdown",
      "metadata": {
        "id": "GV0osEajxEBP"
      },
      "source": [
        "### Part 4 : Conclusion\r\n",
        "\r\n",
        "Berdasarkan ketiga percobaan di atas, kita mendapatkan hasil sebagai berikut.\r\n",
        "\r\n",
        "| Dec. Tree Preprocessing | Duration for PCA | Duration to Train Model | Total Duration | Accuracy | Data Size Reduced |\r\n",
        "| --- | --- | --- | --- | --- | --- |\r\n",
        "| No PCA | 0 seconds | 64 seconds | 64 seconds | 78% | 0% |\r\n",
        "| PCA 0.95 Without Scaling | 11.69 seconds | 48.4 seconds | 60 seconds | 75% | 76.15% |\r\n",
        "| PCA 0.90 With Scaling | 11.19 seconds | 33.55 seconds | 45 seconds | 76% | 82.53% |\r\n",
        "\r\n"
      ]
    },
    {
      "cell_type": "markdown",
      "metadata": {
        "id": "I7wW6Py6z4qk"
      },
      "source": [
        "Kesimpulan yang didapatkan:\r\n",
        "- PCA + Scaling, meski 'hanya' 90% explained variance, berhasil mengurangi kolom sebanyak 82.53% (dari 784 ke 137), dan mengurangi waktu total training dari 64 detik ke 45 detik. \r\n",
        "- Akurasi dari Decision Tree Model yang dilakukan PCA + Scaling terlebih dahulu hanya berkurang sedikit dari model tanpa PCA.\r\n",
        "- Oleh sebab itu, dapat didemonstrasikan kegunaan melakukan PCA dan Scaling dalam memproses data."
      ]
    },
    {
      "cell_type": "markdown",
      "metadata": {
        "id": "AUoZgWMEAvU3"
      },
      "source": [
        "### Checking the Wrongly Classified Images\r\n",
        "\r\n",
        "Sebagai tahap akhir, mari kita lihat beberapa gambar yang salah diklasifikasikan oleh metode PCA 90% + Scaling."
      ]
    },
    {
      "cell_type": "code",
      "metadata": {
        "id": "f-2F1eYi_-y9"
      },
      "source": [
        "comparison = pd.DataFrame((pca_90s_prediction, y_test)).transpose()\r\n",
        "comparison.columns = ['Prediction Label', 'Test Label']"
      ],
      "execution_count": 38,
      "outputs": []
    },
    {
      "cell_type": "code",
      "metadata": {
        "id": "EBArTL_kyfCm"
      },
      "source": [
        "Diff = list()\r\n",
        "for i in range(len(comparison['Prediction Label'])):\r\n",
        "  if comparison['Prediction Label'][i] == comparison['Test Label'][i]:\r\n",
        "    Diff.append(0)\r\n",
        "  else:\r\n",
        "    Diff.append(1)\r\n",
        "\r\n",
        "comparison['Diff'] = Diff"
      ],
      "execution_count": 39,
      "outputs": []
    },
    {
      "cell_type": "code",
      "metadata": {
        "colab": {
          "base_uri": "https://localhost:8080/",
          "height": 202
        },
        "id": "zgmLpm81EqsX",
        "outputId": "6fa7fa0f-d19a-4b9a-a730-22b0fff5b4cc"
      },
      "source": [
        "comparison[comparison['Diff'] == 1].head(5)"
      ],
      "execution_count": 40,
      "outputs": [
        {
          "output_type": "execute_result",
          "data": {
            "text/html": [
              "<div>\n",
              "<style scoped>\n",
              "    .dataframe tbody tr th:only-of-type {\n",
              "        vertical-align: middle;\n",
              "    }\n",
              "\n",
              "    .dataframe tbody tr th {\n",
              "        vertical-align: top;\n",
              "    }\n",
              "\n",
              "    .dataframe thead th {\n",
              "        text-align: right;\n",
              "    }\n",
              "</style>\n",
              "<table border=\"1\" class=\"dataframe\">\n",
              "  <thead>\n",
              "    <tr style=\"text-align: right;\">\n",
              "      <th></th>\n",
              "      <th>Prediction Label</th>\n",
              "      <th>Test Label</th>\n",
              "      <th>Diff</th>\n",
              "    </tr>\n",
              "  </thead>\n",
              "  <tbody>\n",
              "    <tr>\n",
              "      <th>12</th>\n",
              "      <td>5</td>\n",
              "      <td>7</td>\n",
              "      <td>1</td>\n",
              "    </tr>\n",
              "    <tr>\n",
              "      <th>21</th>\n",
              "      <td>7</td>\n",
              "      <td>5</td>\n",
              "      <td>1</td>\n",
              "    </tr>\n",
              "    <tr>\n",
              "      <th>23</th>\n",
              "      <td>5</td>\n",
              "      <td>9</td>\n",
              "      <td>1</td>\n",
              "    </tr>\n",
              "    <tr>\n",
              "      <th>25</th>\n",
              "      <td>6</td>\n",
              "      <td>4</td>\n",
              "      <td>1</td>\n",
              "    </tr>\n",
              "    <tr>\n",
              "      <th>28</th>\n",
              "      <td>7</td>\n",
              "      <td>9</td>\n",
              "      <td>1</td>\n",
              "    </tr>\n",
              "  </tbody>\n",
              "</table>\n",
              "</div>"
            ],
            "text/plain": [
              "    Prediction Label  Test Label  Diff\n",
              "12                 5           7     1\n",
              "21                 7           5     1\n",
              "23                 5           9     1\n",
              "25                 6           4     1\n",
              "28                 7           9     1"
            ]
          },
          "metadata": {
            "tags": []
          },
          "execution_count": 40
        }
      ]
    },
    {
      "cell_type": "markdown",
      "metadata": {
        "id": "uY7iApdEEzz6"
      },
      "source": [
        "Berarti, gambar pada index 12, 21, 23, 25, dan 28 adalah contoh gambar-gambar yang salah diklasifikasikan."
      ]
    },
    {
      "cell_type": "code",
      "metadata": {
        "id": "yNda_vw8FvHl"
      },
      "source": [
        "def explain(index):\r\n",
        "  print('-------------------')\r\n",
        "  print('Gambar untuk index:', index)\r\n",
        "  plt.imshow(x_test[index])\r\n",
        "  plt.show()\r\n",
        "  print('Decision Tree + PCA90 memprediksi bahwa ini adalah gambar', dictionary[comparison['Prediction Label'][index]])\r\n",
        "  print('Seharusnya, ini adalah gambar', dictionary[y_test[index]])\r\n",
        "  print('-------------------')"
      ],
      "execution_count": 49,
      "outputs": []
    },
    {
      "cell_type": "code",
      "metadata": {
        "colab": {
          "base_uri": "https://localhost:8080/",
          "height": 1000
        },
        "id": "dcjgoi13FBv3",
        "outputId": "bddaec58-78d0-426f-fa48-abe6706022d3"
      },
      "source": [
        "wrong_index = [12,21,23,25,28]\r\n",
        "for i in wrong_index:\r\n",
        "  explain(i)"
      ],
      "execution_count": 50,
      "outputs": [
        {
          "output_type": "stream",
          "text": [
            "-------------------\n",
            "Gambar untuk index: 12\n"
          ],
          "name": "stdout"
        },
        {
          "output_type": "display_data",
          "data": {
            "image/png": "[encoded data removed]",
            "text/plain": [
              "<Figure size 432x288 with 1 Axes>"
            ]
          },
          "metadata": {
            "tags": [],
            "needs_background": "light"
          }
        },
        {
          "output_type": "stream",
          "text": [
            "Decision Tree + PCA90 memprediksi bahwa ini adalah gambar Sandal\n",
            "Seharusnya, ini adalah gambar Sneaker\n",
            "-------------------\n",
            "-------------------\n",
            "Gambar untuk index: 21\n"
          ],
          "name": "stdout"
        },
        {
          "output_type": "display_data",
          "data": {
            "image/png": "[encoded data removed]",
            "text/plain": [
              "<Figure size 432x288 with 1 Axes>"
            ]
          },
          "metadata": {
            "tags": [],
            "needs_background": "light"
          }
        },
        {
          "output_type": "stream",
          "text": [
            "Decision Tree + PCA90 memprediksi bahwa ini adalah gambar Sneaker\n",
            "Seharusnya, ini adalah gambar Sandal\n",
            "-------------------\n",
            "-------------------\n",
            "Gambar untuk index: 23\n"
          ],
          "name": "stdout"
        },
        {
          "output_type": "display_data",
          "data": {
            "image/png": "[encoded data removed]",
            "text/plain": [
              "<Figure size 432x288 with 1 Axes>"
            ]
          },
          "metadata": {
            "tags": [],
            "needs_background": "light"
          }
        },
        {
          "output_type": "stream",
          "text": [
            "Decision Tree + PCA90 memprediksi bahwa ini adalah gambar Sandal\n",
            "Seharusnya, ini adalah gambar Boots\n",
            "-------------------\n",
            "-------------------\n",
            "Gambar untuk index: 25\n"
          ],
          "name": "stdout"
        },
        {
          "output_type": "display_data",
          "data": {
            "image/png": "[encoded data removed]",
            "text/plain": [
              "<Figure size 432x288 with 1 Axes>"
            ]
          },
          "metadata": {
            "tags": [],
            "needs_background": "light"
          }
        },
        {
          "output_type": "stream",
          "text": [
            "Decision Tree + PCA90 memprediksi bahwa ini adalah gambar Shirt\n",
            "Seharusnya, ini adalah gambar Coat\n",
            "-------------------\n",
            "-------------------\n",
            "Gambar untuk index: 28\n"
          ],
          "name": "stdout"
        },
        {
          "output_type": "display_data",
          "data": {
            "image/png": "[encoded data removed]",
            "text/plain": [
              "<Figure size 432x288 with 1 Axes>"
            ]
          },
          "metadata": {
            "tags": [],
            "needs_background": "light"
          }
        },
        {
          "output_type": "stream",
          "text": [
            "Decision Tree + PCA90 memprediksi bahwa ini adalah gambar Sneaker\n",
            "Seharusnya, ini adalah gambar Boots\n",
            "-------------------\n"
          ],
          "name": "stdout"
        }
      ]
    },
    {
      "cell_type": "markdown",
      "metadata": {
        "id": "U1yjpzm7Gdvy"
      },
      "source": [
        "Dapat dilihat bahwa model cenderung sulit membedakan jenis-jenis alas kaki, yaitu sneaker, sandal, dan boots."
      ]
    }
  ]
}